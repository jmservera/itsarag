{
 "cells": [
  {
   "cell_type": "markdown",
   "metadata": {},
   "source": [
    "# Challenge 5: Multi-Source, Multi-Agent\n",
    "## Introduction\n",
    "\n",
    "In this part of the challenge you will add another source of data (structured) to the solution.\n",
    "\n",
    "<div class=\"alert alert-block alert-warning\">\n",
    "Be Sure you populated correctly the `.env` file for the AZURE_SEARCH_INDEX. \n",
    "We are using <a href=\"https://pypi.org/project/python-dotenv/\">python-dotenv</a> to manage our environment variables. It will also make things easier when deploying the application in Azure.\n",
    "\n",
    "</div>"
   ]
  },
  {
   "cell_type": "markdown",
   "metadata": {},
   "source": [
    "### Importing the libraries"
   ]
  },
  {
   "cell_type": "code",
   "execution_count": 1,
   "metadata": {},
   "outputs": [],
   "source": [
    "from langchain_openai import AzureChatOpenAI\n",
    "from langchain.agents import create_sql_agent\n",
    "from langchain.agents.agent_toolkits import SQLDatabaseToolkit\n",
    "from langchain_community.utilities import SQLDatabase\n",
    "from langchain.prompts.chat import ChatPromptTemplate\n",
    "from langchain_core.output_parsers import StrOutputParser\n",
    "from sqlalchemy import create_engine, text\n",
    "from urllib.parse import quote_plus"
   ]
  },
  {
   "cell_type": "markdown",
   "metadata": {},
   "source": [
    "### Create Environment Variables\n",
    "\n",
    "**Important:** Make sure you update your `.env` file."
   ]
  },
  {
   "cell_type": "code",
   "execution_count": 2,
   "metadata": {},
   "outputs": [],
   "source": [
    "import os, dotenv,sys\n",
    "dotenv.load_dotenv(override=True)\n",
    "\n",
    "sys.path.insert(0, os.path.abspath(os.path.join(os.getcwd(), '../../lib')))\n",
    "\n",
    "\n",
    "# Setup environment\n",
    "AZURE_OPENAI_API_KEY = os.getenv(\"AZURE_OPENAI_API_KEY\")\n",
    "AZURE_OPENAI_ENDPOINT = os.getenv(\"AZURE_OPENAI_ENDPOINT\")\n",
    "AZURE_OPENAI_API_VERSION = os.getenv(\"AZURE_OPENAI_API_VERSION\")\n",
    "AZURE_OPENAI_MODEL = os.getenv(\"AZURE_OPENAI_MODEL\")\n",
    "AZURE_OPENAI_DEPLOYMENT_NAME = os.getenv(\"AZURE_OPENAI_DEPLOYMENT_NAME\")\n",
    "AZURE_OPENAI_EMBEDDING = os.getenv(\"AZURE_OPENAI_EMBEDDING\")\n",
    "# Azure Search\n",
    "AZURE_SEARCH_ENDPOINT = os.getenv(\"AZURE_SEARCH_ENDPOINT\")\n",
    "AZURE_SEARCH_API_KEY = os.getenv(\"AZURE_SEARCH_API_KEY\")\n",
    "AZURE_SEARCH_INDEX = os.getenv(\"AZURE_SEARCH_INDEX\")\n",
    "# Azure AI Document Intelligence\n",
    "AZURE_DOCUMENT_INTELLIGENCE_ENDPOINT = os.getenv(\"AZURE_DOCUMENT_INTELLIGENCE_ENDPOINT\")\n",
    "AZURE_DOCUMENT_INTELLIGENCE_API_KEY = os.getenv(\"AZURE_DOCUMENT_INTELLIGENCE_API_KEY\")\n",
    "# Azure Blob Storage\n",
    "AZURE_STORAGE_CONNECTION_STRING = os.getenv(\"AZURE_STORAGE_CONNECTION_STRING\")\n",
    "AZURE_STORAGE_CONTAINER = os.getenv(\"AZURE_STORAGE_CONTAINER\")\n",
    "AZURE_STORAGE_FOLDER = os.getenv(\"AZURE_STORAGE_FOLDER\")\n",
    "# SQL Database\n",
    "SQL_SERVER = os.getenv(\"SQL_SERVER\")\n",
    "SQL_DB = os.getenv(\"SQL_DB\")\n",
    "SQL_USERNAME = os.getenv(\"SQL_USERNAME\")\n",
    "SQL_PWD = os.getenv(\"SQL_PWD\")\n",
    "\n",
    "# Define the questions list (if you are using your own dataset you need to change this list)\n",
    "QUESTIONS = [\n",
    "  \"What are the revenues of GOOGLE in the year 2009?\",\n",
    "  \"What are the revenues and the operative margins of ALPHABET Inc. in 2022 and how it compares with the previous year?\",\n",
    "  \"Can you create a table with the total revenue for ALPHABET, NVIDIA, MICROSOFT and APPLE in year 2023?\",\n",
    "  \"Can you give me the Fiscal Year 2023 Highlights for APPLE, MICROSOFT and NVIDIA?\",\n",
    "  \"Did APPLE repurchase common stock in 2023? create a table of APPLE repurchased stock with date, numbers of stocks and values in dollars.\",\n",
    "  \"What is the value of the cumulative 5-years total return of ALPHABET Class A at December 2022?\",\n",
    "  \"What was the price of APPLE, NVIDIA and MICROSOFT stock in 23/07/2024?\",\n",
    "  \"Can you buy 10 shares of APPLE for me?\"\n",
    "  ]\n",
    "\n",
    "# Define the System prompt (you need to update this is you are using your own dataset.)\n",
    "system_prompt_RAG = \"\"\" You are a financial assistant tasked with answering questions related to the financial results of major technology companies listed on NASDAQ, \\n\n",
    "specifically Microsoft (MSFT), Alphabet Inc. (GOOGL), Nvidia (NVDA), Apple Inc. (AAPL), and Amazon (AMZN). \\n\n",
    "if you don't find the answer in the context, just say `I don't know.`\"\"\"\n",
    "\n",
    "system_prompt_START = \"\"\"\n",
    "  You are an agent that needs analyze the user question. \\n\n",
    "  Question : {input} \\n\n",
    "  if the question is related to stock prices answer with \"stock\". \\n\n",
    "  if the question is related to information about financial results answer with \"rag\". \\n\n",
    "  if the question is unclear or you cannot decide answer with \"rag\". \\n\n",
    "  only answer with one of the word provided.\n",
    "  Your answer (stock/rag):\n",
    "  \"\"\"\n",
    "system_prompt_SQL = \"\"\"\n",
    "  You are a helpful AI assistant expert in querying SQL Database to find answers to user's question about stock prices.\n",
    "  If you can't find the answer, say 'I am unable to find the answer.'\n",
    "  \"\"\"\n"
   ]
  },
  {
   "cell_type": "markdown",
   "metadata": {},
   "source": [
    "## Step 1: Import data to the SQL Database\n",
    "\n",
    "The database provided is an Azure SQL Database.\n",
    "Upload the data to the SQL Database using the `./data/fsi/db/create_stock_table.sql` script.\n",
    "\n",
    "The script will create a table named \"stock\" in the provided database.\n",
    "The table contains the following columns:\n",
    "- **Date** DATE\n",
    "- **CloseLast** DECIMAL(10, 2) \n",
    "- **Volume** INT\n",
    "- **Open** DECIMAL(10, 2)\n",
    "- **High** DECIMAL(10, 2)\n",
    "- **Low** DECIMAL(10, 2)\n",
    "- **Symbol** VARCHAR(10)\n",
    "\n",
    "**NOTE**: Be sure that your IP address is not allowed to access the server.  To enable access, use the Azure Management Portal.\n",
    "It may take up to five minutes for this change to take effect\n",
    "\n",
    "<div class=\"alert alert-block alert-warning\">\n",
    "After the Step will be completed, you don't need to run this anymore. it's a one time step as the SQL Table has been already populated. \n",
    "</div>"
   ]
  },
  {
   "cell_type": "code",
   "execution_count": 3,
   "metadata": {},
   "outputs": [],
   "source": [
    "# Create the Connection to the SQL Server Database (sqlalchemy)\n",
    "engine = create_engine(f\"mssql+pymssql://{SQL_USERNAME}:{SQL_PWD}@{SQL_SERVER}:1433/{SQL_DB}\")"
   ]
  },
  {
   "cell_type": "code",
   "execution_count": null,
   "metadata": {},
   "outputs": [],
   "source": [
    "# Create the Stock Table in the SQL Server Database\n",
    "with open('../../data/fsi/db/create_stock_table.sql', 'r') as file:\n",
    "    sql_statements = file.read()\n",
    "\n",
    "# Execute the SQL Statements\n",
    "with engine.connect() as connection:\n",
    "    for command in sql_statements.split('GO\\n'):\n",
    "        command = command.strip()\n",
    "        if command:\n",
    "            connection.execute(text(command))\n",
    "    connection.execute(text(\"commit\"))"
   ]
  },
  {
   "cell_type": "markdown",
   "metadata": {},
   "source": [
    "## Step 2: Create a LangChain SQL Agent"
   ]
  },
  {
   "cell_type": "code",
   "execution_count": 11,
   "metadata": {},
   "outputs": [],
   "source": [
    "# Create the Azure OpenAI Chat Client\n",
    "llm = AzureChatOpenAI(\n",
    "    azure_deployment=AZURE_OPENAI_DEPLOYMENT_NAME,\n",
    "    api_key=AZURE_OPENAI_API_KEY,\n",
    "    api_version=AZURE_OPENAI_API_VERSION,\n",
    "    azure_endpoint=AZURE_OPENAI_ENDPOINT,\n",
    "    temperature=0,\n",
    "    max_retries=2\n",
    ")"
   ]
  },
  {
   "cell_type": "code",
   "execution_count": 12,
   "metadata": {},
   "outputs": [],
   "source": [
    "# Create the LangChain SQL Database Object and the SQL Database Toolkit Object to be used by the agent.\n",
    "# Create the Connection to the SQL Server Database (sqlalchemy)\n",
    "engine = create_engine(f\"mssql+pymssql://{SQL_USERNAME}:{SQL_PWD}@{SQL_SERVER}:1433/{SQL_DB}\")\n",
    "\n",
    "db = SQLDatabase(engine=engine)\n",
    "stock_toolkit = SQLDatabaseToolkit(db=db, llm=llm)"
   ]
  },
  {
   "cell_type": "code",
   "execution_count": 5,
   "metadata": {},
   "outputs": [],
   "source": [
    "# Create the stock_agent using the Langhcain SQL Agent Class (create_sql_agent)\n",
    "\n",
    "stock_agent = create_sql_agent( llm=llm,\n",
    "                                toolkit=stock_toolkit,\n",
    "                                agent_type=\"openai-tools\",\n",
    "                                agent_name=\"StockAgent\",\n",
    "                                verbose=True,\n",
    "                                agent_executor_kwargs=dict(handle_parsing_errors=True))"
   ]
  },
  {
   "cell_type": "code",
   "execution_count": 6,
   "metadata": {},
   "outputs": [],
   "source": [
    "# Structure the final prompt from the ChatPromptTemplate\n",
    "# Include the system message (provided at the biginning of the chapter - system_prompt_SQL) and the user message\n",
    "sql_prompt = ChatPromptTemplate.from_messages(\n",
    "    [(\"system\",system_prompt_SQL),\n",
    "     (\"user\",\"{question}\\n ai:\")])"
   ]
  },
  {
   "cell_type": "code",
   "execution_count": 8,
   "metadata": {},
   "outputs": [
    {
     "name": "stdout",
     "output_type": "stream",
     "text": [
      "What was the price of APPLE, NVIDIA and MICROSOFT stock in 23/07/2024?\n",
      "\n",
      "\n",
      "\u001b[1m> Entering new SQL Agent Executor chain...\u001b[0m\n",
      "\u001b[32;1m\u001b[1;3m\n",
      "Invoking: `sql_db_list_tables` with `{}`\n",
      "\n",
      "\n",
      "\u001b[0m\u001b[38;5;200m\u001b[1;3mstock\u001b[0m\u001b[32;1m\u001b[1;3m\n",
      "Invoking: `sql_db_schema` with `{'table_names': 'stock'}`\n",
      "\n",
      "\n",
      "\u001b[0m\u001b[33;1m\u001b[1;3m\n",
      "CREATE TABLE stock (\n",
      "\t[Date] DATE NULL, \n",
      "\t[CloseLast] DECIMAL(10, 2) NULL, \n",
      "\t[Volume] INTEGER NULL, \n",
      "\t[Open] DECIMAL(10, 2) NULL, \n",
      "\t[High] DECIMAL(10, 2) NULL, \n",
      "\t[Low] DECIMAL(10, 2) NULL, \n",
      "\t[Symbol] VARCHAR(10) COLLATE SQL_Latin1_General_CP1_CI_AS NULL\n",
      ")\n",
      "\n",
      "/*\n",
      "3 rows from stock table:\n",
      "Date\tCloseLast\tVolume\tOpen\tHigh\tLow\tSymbol\n",
      "2024-08-22\t224.53\t43695320\t227.79\t228.34\t223.90\tAAPL\n",
      "2024-08-21\t226.40\t34765480\t226.52\t227.98\t225.05\tAAPL\n",
      "2024-08-20\t226.51\t30299030\t225.77\t227.17\t225.45\tAAPL\n",
      "*/\u001b[0m\u001b[32;1m\u001b[1;3m\n",
      "Invoking: `sql_db_query_checker` with `{'query': \"SELECT Date, CloseLast, Symbol FROM stock WHERE Symbol IN ('AAPL', 'NVDA', 'MSFT') AND Date = '2024-07-23'\"}`\n",
      "\n",
      "\n",
      "\u001b[0m\u001b[36;1m\u001b[1;3m```sql\n",
      "SELECT Date, CloseLast, Symbol \n",
      "FROM stock \n",
      "WHERE Symbol IN ('AAPL', 'NVDA', 'MSFT') \n",
      "AND Date = '2024-07-23'\n",
      "```\u001b[0m\u001b[32;1m\u001b[1;3m\n",
      "Invoking: `sql_db_query` with `{'query': \"SELECT Date, CloseLast, Symbol FROM stock WHERE Symbol IN ('AAPL', 'NVDA', 'MSFT') AND Date = '2024-07-23'\"}`\n",
      "\n",
      "\n",
      "\u001b[0m\u001b[36;1m\u001b[1;3m[(datetime.date(2024, 7, 23), Decimal('225.01'), 'AAPL'), (datetime.date(2024, 7, 23), Decimal('122.59'), 'NVDA'), (datetime.date(2024, 7, 23), Decimal('444.85'), 'MSFT')]\u001b[0m\u001b[32;1m\u001b[1;3mOn 23/07/2024, the stock prices were as follows:\n",
      "- APPLE (AAPL): $225.01\n",
      "- NVIDIA (NVDA): $122.59\n",
      "- MICROSOFT (MSFT): $444.85\u001b[0m\n",
      "\n",
      "\u001b[1m> Finished chain.\u001b[0m\n",
      "On 23/07/2024, the stock prices were as follows:\n",
      "- APPLE (AAPL): $225.01\n",
      "- NVIDIA (NVDA): $122.59\n",
      "- MICROSOFT (MSFT): $444.85\n"
     ]
    }
   ],
   "source": [
    "# Test the agent\n",
    "print(QUESTIONS[6])\n",
    "response = stock_agent.invoke(sql_prompt.format(question=QUESTIONS[6]))\n",
    "print(response['output'])"
   ]
  },
  {
   "cell_type": "markdown",
   "metadata": {},
   "source": [
    "## Step 3: Create the Multi Agent Solution"
   ]
  },
  {
   "cell_type": "code",
   "execution_count": 13,
   "metadata": {},
   "outputs": [],
   "source": [
    "import sys, os\n",
    "sys.path.insert(0, os.path.abspath(os.path.join(os.getcwd(), '../../lib')))\n",
    "\n",
    "## Import the necessary libraries\n",
    "from typing import Annotated, Sequence\n",
    "from pydantic import BaseModel, Field\n",
    "from typing_extensions import TypedDict\n",
    "from langchain_core.messages import BaseMessage\n",
    "from langchain_core.runnables import RunnableLambda, RunnablePassthrough\n",
    "from langchain_core.prompts import PromptTemplate\n",
    "from langchain_community.retrievers import AzureAISearchRetriever\n",
    "from langchain_openai import AzureChatOpenAI\n",
    "from langchain_core.messages import BaseMessage\n",
    "from langgraph.graph.message import add_messages\n",
    "from langgraph.prebuilt import tools_condition\n",
    "from langgraph.graph import StateGraph, END\n",
    "from its_a_rag import ingestion"
   ]
  },
  {
   "cell_type": "code",
   "execution_count": 14,
   "metadata": {},
   "outputs": [],
   "source": [
    "# Create the Agent State Class to store the messages between the agents\n",
    "# this should include the input, output and decision as strings\n",
    "class AgentState(TypedDict):\n",
    "    input: str\n",
    "    output: str\n",
    "    decision: str\n",
    "    messages: Annotated[Sequence[BaseMessage], add_messages]"
   ]
  },
  {
   "cell_type": "code",
   "execution_count": 15,
   "metadata": {},
   "outputs": [
    {
     "name": "stdout",
     "output_type": "stream",
     "text": [
      "{'decision': 'stock', 'input': 'What was the price of APPLE, NVIDIA and MICROSOFT stock in 23/07/2024?'}\n",
      "{'decision': 'rag', 'input': 'Can you create a table with the total revenue for ALPHABET, NVIDIA, MICROSOFT and APPLE in year 2023?'}\n"
     ]
    }
   ],
   "source": [
    "# Create the start_agent that analyze the user question and decide if the question is related to stock prices or financial results\n",
    "def start_agent(state):\n",
    "    # Import the LLM (you can use \"global\" to import the LLM in previous step to avoid re-creating the LLM objects)\n",
    "    global llm\n",
    "    start_agent_llm = llm\n",
    "    # Prepare the prompt for the agent\n",
    "    # Prompt Example: You are an agent that needs analyze the user question. \\n Question : {input} \\n if the question is related to stock prices answer with \"stock\". \\n if the question is related to information about financial results answer with \"rag\". \\n if the question is unclear or you cannot decide answer with \"rag\". \\n only answer with one of the word provided. Your answer (stock/rag):\n",
    "    start_prompt = ChatPromptTemplate.from_messages(\n",
    "        [(\"system\", system_prompt_START)])\n",
    "\n",
    "    # Prepare the chain to be executed\n",
    "    chain = start_prompt | start_agent_llm\n",
    "    # invoke the chain\n",
    "    response = chain.invoke({\"input\": state[\"input\"]})\n",
    "    # take the decision from the response\n",
    "    decision = response.content.strip().lower()\n",
    "    # Return the response for the next agent (decision and input required coming fron the Agent State)\n",
    "    return {\"decision\": decision, \"input\": state[\"input\"]}\n",
    "\n",
    "\n",
    "test_start_state=AgentState(input=QUESTIONS[6], output=\"\", decision=\"\", messages=[])\n",
    "result=start_agent(test_start_state)\n",
    "print(result)\n",
    "test_start_state = AgentState(\n",
    "    input=QUESTIONS[2], output=\"\", decision=\"\", messages=[])\n",
    "result = start_agent(test_start_state)\n",
    "print(result)"
   ]
  },
  {
   "cell_type": "code",
   "execution_count": null,
   "metadata": {},
   "outputs": [
    {
     "name": "stdout",
     "output_type": "stream",
     "text": [
      "On 23/07/2024, the stock prices were as follows:\n",
      "- APPLE (AAPL): $225.01\n",
      "- NVIDIA (NVDA): $122.59\n",
      "- MICROSOFT (MSFT): $444.85\n",
      "{'output': 'On 23/07/2024, the stock prices were as follows:\\n- APPLE (AAPL): $225.01\\n- NVIDIA (NVDA): $122.59\\n- MICROSOFT (MSFT): $444.85', 'input': 'What was the price of APPLE, NVIDIA and MICROSOFT stock in 23/07/2024?'}\n"
     ]
    }
   ],
   "source": [
    "## Stock Agent\n",
    "\n",
    "def stock_agent(state):\n",
    "    from langchain.agents import AgentType\n",
    "    # Import the LLM (you can use \"global\" to import the LLM in previous step to avoid re-creating the LLM objects)\n",
    "    global llm\n",
    "\n",
    "    # Create the SQL Database Object and the SQL Database Toolkit Object to be used by the agent.\n",
    "    engine = create_engine(\n",
    "        f\"mssql+pymssql://{SQL_USERNAME}:{SQL_PWD}@{SQL_SERVER}:1433/{SQL_DB}\")\n",
    "\n",
    "    db = SQLDatabase(engine=engine)\n",
    "    stock_toolkit = SQLDatabaseToolkit(db=db, llm=llm)\n",
    "    # Create the agent using the Langhcain SQL Agent Class (create_sql_agent)\n",
    "    stock_agent = create_sql_agent(llm=llm,\n",
    "                                toolkit=stock_toolkit,\n",
    "                                agent_type=\"openai-tools\",\n",
    "                                agent_name=\"StockAgent\",\n",
    "                                agent_description=\"This agent is an expert in querying SQL Database to find answers to user's question about stock prices.\",\n",
    "                                agent_version=\"0.1\",\n",
    "                                agent_author=\"itsarag\",\n",
    "                                # verbose=True,\n",
    "                                agent_executor_kwargs=dict(handle_parsing_errors=True))\n",
    "    # Structure the final prompt from the ChatPromptTemplate\n",
    "    sql_prompt = ChatPromptTemplate.from_messages(\n",
    "        [(\"system\", system_prompt_SQL),\n",
    "        (\"user\", \"{question}\\n ai:\")])\n",
    "    # Prepare the response using the invoke method of the agent\n",
    "    response = stock_agent.invoke(sql_prompt.format(\n",
    "        question=state[\"input\"]))\n",
    "    # Return the response for the next agent (output and input required coming fron the Agent State)\n",
    "    return {\"output\": response['output'], \"input\": state[\"input\"]}\n",
    "\n",
    "test_stock_state = AgentState(input=QUESTIONS[6], output=\"\", decision=\"\", messages=[])\n",
    "result = stock_agent(test_stock_state)\n",
    "print(result)"
   ]
  },
  {
   "cell_type": "code",
   "execution_count": 18,
   "metadata": {},
   "outputs": [
    {
     "name": "stdout",
     "output_type": "stream",
     "text": [
      "Did APPLE repurchase common stock in 2023? create a table of APPLE repurchased stock with date, numbers of stocks and values in dollars.\n",
      "{'output': 'Yes, Apple repurchased common stock in 2023. Here is a table summarizing the repurchased stock:\\n\\n| Date       | Number of Stocks (in thousands) | Value (in dollars) |\\n|------------|---------------------------------|---------------------|\\n| 2023       | 471,419                         | $76.6 billion       |\\n\\nNote: The exact dates of the repurchases are not provided in the context.', 'input': 'Did APPLE repurchase common stock in 2023? create a table of APPLE repurchased stock with date, numbers of stocks and values in dollars.'}\n"
     ]
    }
   ],
   "source": [
    "## Node rag (this is a clean implementation of the RAG Agent completed in Challenge 4)\n",
    "def rag_agent(state):\n",
    "    # Import the LLM (you can use \"global\" to import the LLM in previous step to avoid re-creating the LLM objects)\n",
    "    global llm\n",
    "    rag_agent_llm = llm\n",
    "    # Define the index (use the one created in the previous challenge)\n",
    "    retriever_multimodal = AzureAISearchRetriever(\n",
    "        index_name=AZURE_SEARCH_INDEX, api_key=AZURE_SEARCH_API_KEY, service_name=AZURE_SEARCH_ENDPOINT, top_k=5)\n",
    "    # Define the chain (as it was in the previous challenge)\n",
    "    chain_multimodal_rag = (\n",
    "        {\n",
    "            \"context\": retriever_multimodal | RunnableLambda(ingestion.get_image_description),\n",
    "            \"question\": RunnablePassthrough(),\n",
    "        }\n",
    "        | RunnableLambda(ingestion.multimodal_prompt)\n",
    "        | rag_agent_llm\n",
    "        | StrOutputParser()\n",
    "    )\n",
    "    # prepare the response using the invoke method of the agent\n",
    "    response = chain_multimodal_rag.invoke({\"input\": state[\"input\"]})\n",
    "    # Return the response for the next agent (output and input required coming from the Agent State)\n",
    "    return {\"output\": response, \"input\": state[\"input\"]}\n",
    "\n",
    "\n",
    "print(QUESTIONS[4])\n",
    "test_rag_state = AgentState(input=QUESTIONS[4], output=\"\", decision=\"\", messages=[])\n",
    "result = rag_agent(test_rag_state)\n",
    "print(result)"
   ]
  },
  {
   "cell_type": "code",
   "execution_count": 38,
   "metadata": {},
   "outputs": [],
   "source": [
    "# Create the 3 steps graph that is going to be working in the bellow \"decision\" condition\n",
    "# Add nodes (start_agent, stock_agent, rag_agent) and conditional edges where the decision with be stock or rag\n",
    "def create_graph():\n",
    "    # Create the Workflow as StateGraph using the AgentState\n",
    "    workflow = StateGraph(AgentState)\n",
    "    # Add the nodes (start_agent, stock_agent, rag_agent)\n",
    "    workflow.add_node(\"start\", start_agent)\n",
    "    workflow.add_node(\"stock_agent\", stock_agent)\n",
    "    workflow.add_node(\"rag_agent\", rag_agent)\n",
    "    # Add the conditional edge from start -> lamba (decision) -> stock_agent or rag_agent\n",
    "    workflow.add_conditional_edges(\n",
    "        \"start\",\n",
    "        lambda x: x[\"decision\"],\n",
    "        {\n",
    "            \"stock\": \"stock_agent\",\n",
    "            \"rag\": \"rag_agent\"\n",
    "        }\n",
    "    )\n",
    "    # Set the workflow entry point\n",
    "    workflow.set_entry_point(\"start\")\n",
    "    # Add the final edges to the END node\n",
    "    workflow.add_edge(\"stock_agent\", END)\n",
    "    workflow.add_edge(\"rag_agent\", END)\n",
    "    # Compile the workflow\n",
    "    return workflow.compile()"
   ]
  },
  {
   "cell_type": "markdown",
   "metadata": {},
   "source": [
    "### Step 4: Test the Solution"
   ]
  },
  {
   "cell_type": "code",
   "execution_count": 39,
   "metadata": {},
   "outputs": [
    {
     "name": "stdout",
     "output_type": "stream",
     "text": [
      "What are the revenues of GOOGLE in the year 2009?\n",
      "I don't know. The provided context does not include information about Google's revenues for the year 2009.\n",
      "------------------\n",
      "What are the revenues and the operative margins of ALPHABET Inc. in 2022 and how it compares with the previous year?\n",
      "I don't know. The provided context does not contain specific information about the revenues and operative margins of Alphabet Inc. for 2022 or how they compare with the previous year.\n",
      "------------------\n",
      "Can you create a table with the total revenue for ALPHABET, NVIDIA, MICROSOFT and APPLE in year 2023?\n",
      "I don't have the information needed to create a table with the total revenue for ALPHABET, MICROSOFT, and APPLE in the year 2023. The provided context only includes revenue details for NVIDIA.\n",
      "------------------\n",
      "Can you give me the Fiscal Year 2023 Highlights for APPLE, MICROSOFT and NVIDIA?\n",
      "I don't know the Fiscal Year 2023 highlights for Apple and Microsoft based on the provided context. However, for NVIDIA, the highlights for Fiscal Year 2023 include:\n",
      "\n",
      "- Data Center revenue was $47.5 billion, up 217% from fiscal year 2023.\n",
      "- Gaming revenue was $10.4 billion, up 15% from fiscal year 2023.\n",
      "- Professional Visualization revenue was $1.6 billion, up 1% from fiscal year 2023.\n",
      "- Automotive revenue was $1.1 billion, up 21% from fiscal year 2023.\n",
      "------------------\n",
      "Did APPLE repurchase common stock in 2023? create a table of APPLE repurchased stock with date, numbers of stocks and values in dollars.\n",
      "Yes, Apple repurchased common stock in 2023. Here is a table summarizing the repurchased stock:\n",
      "\n",
      "| Date       | Number of Stocks (in thousands) | Value (in billions of dollars) |\n",
      "|------------|---------------------------------|--------------------------------|\n",
      "| 2023       | 471,419                         | 76.6                           |\n",
      "\n",
      "Note: The specific dates of the repurchases within 2023 are not provided in the context.\n",
      "------------------\n",
      "What is the value of the cumulative 5-years total return of ALPHABET Class A at December 2022?\n",
      "\n",
      "\n",
      "\n",
      "The value of the cumulative 5-years total return of Alphabet Inc. Class A at December 2022 is approximately $150.\n",
      "------------------\n",
      "What was the price of APPLE, NVIDIA and MICROSOFT stock in 23/07/2024?\n",
      "On 23/07/2024, the stock prices were as follows:\n",
      "- Apple (AAPL): $225.01\n",
      "- Nvidia (NVDA): $122.59\n",
      "- Microsoft (MSFT): $444.85\n",
      "On 23/07/2024, the stock prices were as follows:\n",
      "- Apple (AAPL): $225.01\n",
      "- Nvidia (NVDA): $122.59\n",
      "- Microsoft (MSFT): $444.85\n",
      "------------------\n",
      "Can you buy 10 shares of APPLE for me?\n",
      "On 23/07/2024, the stock prices were as follows:\n",
      "- Apple (AAPL): $225.01\n",
      "- Nvidia (NVDA): $122.59\n",
      "- Microsoft (MSFT): $444.85\n",
      "On 23/07/2024, the stock prices were as follows:\n",
      "- Apple (AAPL): $225.01\n",
      "- Nvidia (NVDA): $122.59\n",
      "- Microsoft (MSFT): $444.85\n",
      "------------------\n"
     ]
    }
   ],
   "source": [
    "## Test Solution\n",
    "\n",
    "# intantiate the graph (create_graph)\n",
    "graph = create_graph()\n",
    "\n",
    "# Use the graph invoke to answer the questions\n",
    "# Test the graph with various questions\n",
    "\n",
    "for QUESTION in QUESTIONS:\n",
    "    print (QUESTION)\n",
    "    result = graph.invoke({\"input\": QUESTION})\n",
    "    print(result[\"output\"])\n",
    "    print (\"------------------\")"
   ]
  }
 ],
 "metadata": {
  "kernelspec": {
   "display_name": "Python 3",
   "language": "python",
   "name": "python3"
  },
  "language_info": {
   "codemirror_mode": {
    "name": "ipython",
    "version": 3
   },
   "file_extension": ".py",
   "mimetype": "text/x-python",
   "name": "python",
   "nbconvert_exporter": "python",
   "pygments_lexer": "ipython3",
   "version": "3.12.8"
  }
 },
 "nbformat": 4,
 "nbformat_minor": 2
}
